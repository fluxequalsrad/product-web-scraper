{
 "cells": [
  {
   "cell_type": "markdown",
   "id": "5984203c",
   "metadata": {},
   "source": [
    "## Product Web Scraper - Hamish and Andy\n",
    "\n",
    "During the Christmas holidays, my sister expressed her frustration about never being able to buy the \"Lost touch with the common man\" t-shirt produced by Australian radio duo Hamish and Andy as it was always out of stock. To help her catch when new stock became available, I decided to write the following Python script that could monitor its availability."
   ]
  },
  {
   "cell_type": "code",
   "execution_count": 1,
   "id": "4aadb0c2",
   "metadata": {},
   "outputs": [],
   "source": [
    "# Load libraries\n",
    "import requests\n",
    "import random\n",
    "from bs4 import BeautifulSoup\n",
    "import pandas as pd"
   ]
  },
  {
   "cell_type": "markdown",
   "id": "fb9496fa",
   "metadata": {},
   "source": [
    "I first needed to create a list of User Agents to simulate real user activity. This enabled the script to access the website without triggering the 403 Forbidden error which can be triggered when a site suspects it is being accessed by an automation rather than a real user. "
   ]
  },
  {
   "cell_type": "code",
   "execution_count": 2,
   "id": "6077eeeb",
   "metadata": {},
   "outputs": [],
   "source": [
    "# create a list of user agents\n",
    "userAgents = ['Mozilla/5.0 (Macintosh; Intel Mac OS X 10_15_7) AppleWebKit/605.1.15 (KHTML, like Gecko) Version/16.6 Safari/605.1.1',\n",
    "              'Mozilla/5.0 (Macintosh; Intel Mac OS X 10_15_7) AppleWebKit/605.1.15 (KHTML, like Gecko) Version/17.2.1 Safari/605.1.1',\n",
    "              'Mozilla/5.0 (Macintosh; Intel Mac OS X 10_15_7) AppleWebKit/605.1.15 (KHTML, like Gecko) Version/16.3 Safari/605.1.1',\n",
    "              'Mozilla/5.0 (Windows NT 10.0; Win64; x64) AppleWebKit/537.36 (KHTML, like Gecko) Chrome/120.0.0.0 Safari/537.3',\n",
    "              'Mozilla/5.0 (Windows NT 10.0; Win64; x64) AppleWebKit/537.36 (KHTML, like Gecko) Chrome/109.0.0.0 Safari/537.3']\n",
    "\n",
    "# select a random user agent and access website\n",
    "website = \"https://hamishandandy.com/shop/\"\n",
    "html_data = requests.get(website, headers={'User-Agent': random.choice(userAgents)})"
   ]
  },
  {
   "cell_type": "markdown",
   "id": "10c96fe9",
   "metadata": {},
   "source": [
    "Using the developer tools available in any browser, I identified the HTML elements that define each product and their in-stock status. I then created a BeautifulSoup object to parse the HTML code and locate these elements, outputting a list of all items and their availability."
   ]
  },
  {
   "cell_type": "code",
   "execution_count": 15,
   "id": "2b27abb6",
   "metadata": {},
   "outputs": [
    {
     "data": {
      "text/html": [
       "<style type=\"text/css\">\n",
       "#T_bc28a th {\n",
       "  text-align: left;\n",
       "}\n",
       "#T_bc28a_row0_col0, #T_bc28a_row0_col1, #T_bc28a_row1_col0, #T_bc28a_row1_col1, #T_bc28a_row2_col0, #T_bc28a_row2_col1, #T_bc28a_row3_col0, #T_bc28a_row3_col1, #T_bc28a_row4_col0, #T_bc28a_row4_col1, #T_bc28a_row5_col0, #T_bc28a_row5_col1, #T_bc28a_row6_col0, #T_bc28a_row6_col1, #T_bc28a_row7_col0, #T_bc28a_row7_col1, #T_bc28a_row8_col0, #T_bc28a_row8_col1, #T_bc28a_row9_col0, #T_bc28a_row9_col1, #T_bc28a_row10_col0, #T_bc28a_row10_col1, #T_bc28a_row11_col0, #T_bc28a_row11_col1, #T_bc28a_row12_col0, #T_bc28a_row12_col1 {\n",
       "  text-align: left;\n",
       "}\n",
       "</style>\n",
       "<table id=\"T_bc28a\">\n",
       "  <thead>\n",
       "    <tr>\n",
       "      <th id=\"T_bc28a_level0_col0\" class=\"col_heading level0 col0\" >Product</th>\n",
       "      <th id=\"T_bc28a_level0_col1\" class=\"col_heading level0 col1\" >In Stock</th>\n",
       "    </tr>\n",
       "  </thead>\n",
       "  <tbody>\n",
       "    <tr>\n",
       "      <td id=\"T_bc28a_row0_col0\" class=\"data row0 col0\" >‘I will never mention Mr Ralph’ Grey Tee</td>\n",
       "      <td id=\"T_bc28a_row0_col1\" class=\"data row0 col1\" >available</td>\n",
       "    </tr>\n",
       "    <tr>\n",
       "      <td id=\"T_bc28a_row1_col0\" class=\"data row1 col0\" >‘Must Be Very Nice’ Baseball Style Hat</td>\n",
       "      <td id=\"T_bc28a_row1_col1\" class=\"data row1 col1\" >available</td>\n",
       "    </tr>\n",
       "    <tr>\n",
       "      <td id=\"T_bc28a_row2_col0\" class=\"data row2 col0\" >‘Must Be Very Nice’ Dad Style Hat</td>\n",
       "      <td id=\"T_bc28a_row2_col1\" class=\"data row2 col1\" >available</td>\n",
       "    </tr>\n",
       "    <tr>\n",
       "      <td id=\"T_bc28a_row3_col0\" class=\"data row3 col0\" >‘Must Be Very Nice’ Bucket Hat Yellow with Blue Embroidery</td>\n",
       "      <td id=\"T_bc28a_row3_col1\" class=\"data row3 col1\" >available</td>\n",
       "    </tr>\n",
       "    <tr>\n",
       "      <td id=\"T_bc28a_row4_col0\" class=\"data row4 col0\" >‘Must Be Very Nice’ Tee Glacier Blue with Yellow Print</td>\n",
       "      <td id=\"T_bc28a_row4_col1\" class=\"data row4 col1\" >available</td>\n",
       "    </tr>\n",
       "    <tr>\n",
       "      <td id=\"T_bc28a_row5_col0\" class=\"data row5 col0\" >Power Moves book Vol 2 (exciting low-cost edition)</td>\n",
       "      <td id=\"T_bc28a_row5_col1\" class=\"data row5 col1\" >available</td>\n",
       "    </tr>\n",
       "    <tr>\n",
       "      <td id=\"T_bc28a_row6_col0\" class=\"data row6 col0\" >‘Must Be Nice’ Baseball Style Hat</td>\n",
       "      <td id=\"T_bc28a_row6_col1\" class=\"data row6 col1\" >sold out</td>\n",
       "    </tr>\n",
       "    <tr>\n",
       "      <td id=\"T_bc28a_row7_col0\" class=\"data row7 col0\" >‘Must Be Nice’ Dad Style Hat</td>\n",
       "      <td id=\"T_bc28a_row7_col1\" class=\"data row7 col1\" >available</td>\n",
       "    </tr>\n",
       "    <tr>\n",
       "      <td id=\"T_bc28a_row8_col0\" class=\"data row8 col0\" >Lost Touch Tee Navy with Gold Embroidery</td>\n",
       "      <td id=\"T_bc28a_row8_col1\" class=\"data row8 col1\" >available</td>\n",
       "    </tr>\n",
       "    <tr>\n",
       "      <td id=\"T_bc28a_row9_col0\" class=\"data row9 col0\" >In Touch Tee Navy with Tarnished Bronze Print</td>\n",
       "      <td id=\"T_bc28a_row9_col1\" class=\"data row9 col1\" >available</td>\n",
       "    </tr>\n",
       "    <tr>\n",
       "      <td id=\"T_bc28a_row10_col0\" class=\"data row10 col0\" >Power Moves Book – Volume 1</td>\n",
       "      <td id=\"T_bc28a_row10_col1\" class=\"data row10 col1\" >sold out</td>\n",
       "    </tr>\n",
       "    <tr>\n",
       "      <td id=\"T_bc28a_row11_col0\" class=\"data row11 col0\" >Lost Touch T-Shirt</td>\n",
       "      <td id=\"T_bc28a_row11_col1\" class=\"data row11 col1\" >sold out</td>\n",
       "    </tr>\n",
       "    <tr>\n",
       "      <td id=\"T_bc28a_row12_col0\" class=\"data row12 col0\" >Common Man  ",
       "T-Shirt</td>\n",
       "      <td id=\"T_bc28a_row12_col1\" class=\"data row12 col1\" >sold out</td>\n",
       "    </tr>\n",
       "  </tbody>\n",
       "</table>\n"
      ],
      "text/plain": [
       "<pandas.io.formats.style.Styler at 0x7feca00b6370>"
      ]
     },
     "execution_count": 15,
     "metadata": {},
     "output_type": "execute_result"
    }
   ],
   "source": [
    "# Parse HTML Code\n",
    "# create beautiful soup object\n",
    "soup = BeautifulSoup(html_data.content, \"html.parser\")\n",
    "\n",
    "shop_elements = soup.find_all(\"div\", class_=\"c-product-tile__wrap\")\n",
    "#print(shop_elements)\n",
    "\n",
    "# create lists to store product names and 'in stock' information\n",
    "product_list = []\n",
    "stock_list = []\n",
    "\n",
    "# iterate through the shop elements extracting product names and checking if the soldout tag exists\n",
    "# append this information to the relevant lists\n",
    "for element in shop_elements:\n",
    "    product_element = element.find_all(\"h5\")\n",
    "    stock_element = element.find_all(\"span\", class_=\"soldout-tag\")\n",
    "    product_text = product_element[0].text\n",
    "    product_list.append(product_text)\n",
    "    stock_text = stock_element[0].text if stock_element else \"available\"\n",
    "    stock_list.append(stock_text)\n",
    "\n",
    "# create dataframe using list information\n",
    "product_data = pd.DataFrame({\"Product\": product_list, \"In Stock\": stock_list})\n",
    "\n",
    "# adjust formatting of the output\n",
    "# align text to left\n",
    "styled_df = product_data.style.set_properties(**{'text-align': 'left'}).set_table_styles([{\n",
    "    'selector': 'th',\n",
    "    'props': [('text-align', 'left')]\n",
    "}])\n",
    "# hide index\n",
    "styled_df.hide(axis='index')\n"
   ]
  },
  {
   "cell_type": "markdown",
   "id": "a603fbe9",
   "metadata": {},
   "source": [
    "This script can be scheduled to automatically run each day using Crontab (for Mac)."
   ]
  }
 ],
 "metadata": {
  "kernelspec": {
   "display_name": "Python 3 (ipykernel)",
   "language": "python",
   "name": "python3"
  },
  "language_info": {
   "codemirror_mode": {
    "name": "ipython",
    "version": 3
   },
   "file_extension": ".py",
   "mimetype": "text/x-python",
   "name": "python",
   "nbconvert_exporter": "python",
   "pygments_lexer": "ipython3",
   "version": "3.9.12"
  }
 },
 "nbformat": 4,
 "nbformat_minor": 5
}
